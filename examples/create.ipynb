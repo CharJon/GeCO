{
 "cells": [
  {
   "cell_type": "code",
   "execution_count": 3,
   "metadata": {
    "collapsed": true
   },
   "outputs": [
    {
     "name": "stdout",
     "output_type": "stream",
     "text": [
      "2332.179997057687\n"
     ]
    }
   ],
   "source": [
    "from geco import generator as gen\n",
    "from geco.mips import capacitated_facility_location\n",
    "\n",
    "cfl_gen = gen.Generator(capacitated_facility_location,n_customers=20,n_facilities=2,ratio=2)\n",
    "for current_model in cfl_gen:\n",
    "    current_model.optimize()\n",
    "    print(current_model.getObjVal())\n",
    "    break"
   ]
  }
 ],
 "metadata": {
  "kernelspec": {
   "display_name": "Python 3",
   "language": "python",
   "name": "python3"
  },
  "language_info": {
   "codemirror_mode": {
    "name": "ipython",
    "version": 2
   },
   "file_extension": ".py",
   "mimetype": "text/x-python",
   "name": "python",
   "nbconvert_exporter": "python",
   "pygments_lexer": "ipython2",
   "version": "2.7.6"
  }
 },
 "nbformat": 4,
 "nbformat_minor": 0
}