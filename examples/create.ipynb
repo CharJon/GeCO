{
 "cells": [
  {
   "cell_type": "code",
   "execution_count": 2,
   "outputs": [
    {
     "name": "stdout",
     "output_type": "stream",
     "text": [
      "2382.4799000080775\n"
     ]
    }
   ],
   "source": [
    "import itertools\n",
    "\n",
    "from geco.generator import *\n",
    "from geco.mips.facility_location import cornuejols_instance\n",
    "\n",
    "\n",
    "gen = Generator(cornuejols_instance, n_customers=10, n_facilities=3, ratio=2)\n",
    "gen.seed(0)\n",
    "for current_model in itertools.islice(gen, 10):\n",
    "    current_model.optimize()\n",
    "    print(current_model.getObjVal())\n",
    "    # current_model.writeProblem(\"some_file.lp\")\n",
    "    break"
   ],
   "metadata": {
    "collapsed": false,
    "pycharm": {
     "name": "#%%\n"
    }
   }
  }
 ],
 "metadata": {
  "kernelspec": {
   "display_name": "Python 3",
   "language": "python",
   "name": "python3"
  },
  "language_info": {
   "codemirror_mode": {
    "name": "ipython",
    "version": 2
   },
   "file_extension": ".py",
   "mimetype": "text/x-python",
   "name": "python",
   "nbconvert_exporter": "python",
   "pygments_lexer": "ipython2",
   "version": "2.7.6"
  }
 },
 "nbformat": 4,
 "nbformat_minor": 0
}