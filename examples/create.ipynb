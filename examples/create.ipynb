{
 "cells": [
  {
   "cell_type": "code",
   "execution_count": null,
   "outputs": [],
   "source": [
    "import tqdm\n",
    "\n",
    "from geco.generator import *\n",
    "from geco.mips.facility_location import cornuejols_instance\n",
    "\n",
    "\n",
    "\n",
    "num = 400\n",
    "n = 30\n",
    "m = 20\n",
    "r = 2\n",
    "gen = generate_n(lambda seed: cornuejols_instance(n,m,r,seed), n=400)\n",
    "\n",
    "for i, current_model in tqdm.tqdm(gen, total=num):\n",
    "    current_model.writeProblem(f\"../data/capfac-n{n}m{m}r{r}-{i}.lp\")\n"
   ],
   "metadata": {
    "collapsed": false,
    "pycharm": {
     "name": "#%%\n"
    }
   }
  }
 ],
 "metadata": {
  "kernelspec": {
   "display_name": "Python 3",
   "language": "python",
   "name": "python3"
  },
  "language_info": {
   "codemirror_mode": {
    "name": "ipython",
    "version": 2
   },
   "file_extension": ".py",
   "mimetype": "text/x-python",
   "name": "python",
   "nbconvert_exporter": "python",
   "pygments_lexer": "ipython2",
   "version": "2.7.6"
  }
 },
 "nbformat": 4,
 "nbformat_minor": 0
}