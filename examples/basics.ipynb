{
 "cells": [
  {
   "cell_type": "code",
   "execution_count": 1,
   "metadata": {
    "pycharm": {
     "name": "#%%\n"
    },
    "slideshow": {
     "slide_type": "slide"
    }
   },
   "outputs": [],
   "source": [
    "import networkx as nx\n",
    "\n",
    "\n",
    "def read_dimacs_graph(f):\n",
    "    g = nx.Graph()\n",
    "    expected_num_nodes = None\n",
    "    expected_num_edges = None\n",
    "\n",
    "    with open(f) as of:\n",
    "        for line in of:\n",
    "            if len(line) > 1:\n",
    "                if line.startswith('c'):\n",
    "                    pass\n",
    "                elif line.startswith(\"p\"):\n",
    "                    _, file_type, num_nodes, num_edges = line.strip().split(\" \")\n",
    "                    expected_num_nodes = int(num_nodes)\n",
    "                    expected_num_edges = int(num_edges)\n",
    "                elif line.startswith(\"e\"):\n",
    "                    _, u,v = line.strip().split(\" \")\n",
    "                    g.add_edge(u, v)\n",
    "                else:\n",
    "                    raise ValueError(f\"Unknown line start {line[0]}\")\n",
    "\n",
    "    #assert expected_num_nodes == g.number_of_nodes(), f\"{expected_num_nodes} {g.number_of_nodes()}\"\n",
    "    #assert expected_num_edges == g.number_of_edges(), f\"{expected_num_edges} {g.number_of_edges()}\"\n",
    "    return g"
   ]
  },
  {
   "cell_type": "markdown",
   "metadata": {
    "collapsed": true,
    "pycharm": {
     "name": "#%% md\n"
    },
    "slideshow": {
     "slide_type": "slide"
    }
   },
   "source": [
    "<font size=\"5\">\n",
    "\n",
    "**GeCO**\n",
    "\n",
    "**Ge**nerators for **C**ombinatorial **O**ptimization\n",
    "\n",
    "Common tasks when reproducing CO Papers:\n",
    "- Download and read instances\n",
    "- Create instances of the same type\n",
    "    \n",
    "Usually there is no single best file format\n",
    "    \n",
    "GeCO offers file format agnostic reading and writing by using popular open source libraries\n"
   ]
  },
  {
   "cell_type": "markdown",
   "metadata": {
    "pycharm": {
     "name": "#%% md\n"
    },
    "slideshow": {
     "slide_type": "slide"
    }
   },
   "source": [
    "<font size=\"5\">\n",
    "\n",
    "**Files to MIPS**\n",
    "\n",
    "Graph file -> MIP\n",
    "\n",
    "Making use of NetworkX and PySCIPOpt"
   ]
  },
  {
   "cell_type": "code",
   "execution_count": 2,
   "metadata": {
    "pycharm": {
     "name": "#%%\n"
    },
    "slideshow": {
     "slide_type": "subslide"
    }
   },
   "outputs": [],
   "source": [
    "# Reading a graph with networkx\n",
    "graph_1 = read_dimacs_graph(\"../data/local/1-FullIns_4.col\")"
   ]
  },
  {
   "cell_type": "code",
   "execution_count": 3,
   "metadata": {
    "pycharm": {
     "name": "#%%\n"
    },
    "slideshow": {
     "slide_type": "subslide"
    }
   },
   "outputs": [],
   "source": [
    "# Creating a (SCIP-)MIP model\n",
    "import geco.mips.graph_coloring as gc\n",
    "\n",
    "model = gc.partial_ordering(graph_1, color_upperbound=8)"
   ]
  },
  {
   "cell_type": "code",
   "execution_count": 4,
   "metadata": {
    "pycharm": {
     "name": "#%%\n"
    },
    "slideshow": {
     "slide_type": "subslide"
    }
   },
   "outputs": [
    {
     "name": "stdout",
     "output_type": "stream",
     "text": [
      "optimal 5.0 118\n"
     ]
    }
   ],
   "source": [
    "# Solving it\n",
    "model.optimize()\n",
    "print(model.getStatus(), model.getObjVal(), model.getNNodes())"
   ]
  },
  {
   "cell_type": "code",
   "execution_count": 5,
   "metadata": {
    "pycharm": {
     "name": "#%%\n"
    },
    "slideshow": {
     "slide_type": "subslide"
    }
   },
   "outputs": [
    {
     "name": "stdout",
     "output_type": "stream",
     "text": [
      "wrote problem to file b'/tmp/1-FullIns_4.pop.mps'\n",
      "wrote problem to file b'/tmp/1-FullIns_4.pop.lp'\n"
     ]
    }
   ],
   "source": [
    "# Saving it\n",
    "model.writeProblem(\"/tmp/1-FullIns_4.pop.mps\")\n",
    "model.writeProblem(\"/tmp/1-FullIns_4.pop.lp\")"
   ]
  },
  {
   "cell_type": "code",
   "execution_count": 6,
   "metadata": {
    "pycharm": {
     "name": "#%%\n"
    },
    "slideshow": {
     "slide_type": "subslide"
    }
   },
   "outputs": [],
   "source": [
    "# Making use of networkx generators\n",
    "graph_2 = nx.generators.erdos_renyi_graph(35, 0.2)"
   ]
  },
  {
   "cell_type": "code",
   "execution_count": 7,
   "metadata": {
    "pycharm": {
     "name": "#%%\n"
    },
    "slideshow": {
     "slide_type": "subslide"
    }
   },
   "outputs": [
    {
     "name": "stdout",
     "output_type": "stream",
     "text": [
      "35 101\n",
      "optimal 4.0 1\n"
     ]
    }
   ],
   "source": [
    "print(graph_2.number_of_nodes(), graph_2.number_of_edges())\n",
    "\n",
    "model = gc.partial_ordering(graph_2, color_upperbound=8)\n",
    "model.optimize()\n",
    "print(model.getStatus(), model.getObjVal(), model.getNNodes())"
   ]
  },
  {
   "cell_type": "markdown",
   "metadata": {
    "pycharm": {
     "name": "#%% md\n"
    },
    "slideshow": {
     "slide_type": "slide"
    }
   },
   "source": [
    "<font size=\"5\">\n",
    "\n",
    "**MIPLIB functionality**"
   ]
  },
  {
   "cell_type": "code",
   "execution_count": 8,
   "metadata": {
    "pycharm": {
     "name": "#%%\n"
    },
    "slideshow": {
     "slide_type": "subslide"
    }
   },
   "outputs": [
    {
     "name": "stdout",
     "output_type": "stream",
     "text": [
      "optimal 385.19969295 5280\n"
     ]
    }
   ],
   "source": [
    "import geco.mips.miplib as ml\n",
    "\n",
    "loader = ml.Loader(persistent_directory=\"/tmp/\")\n",
    "\n",
    "miplib_model = loader.load_instance(\"swath2.mps\", with_solution=True)\n",
    "miplib_model.optimize()\n",
    "\n",
    "print(miplib_model.getStatus(), miplib_model.getObjVal(), miplib_model.getNNodes())"
   ]
  },
  {
   "cell_type": "code",
   "execution_count": 15,
   "metadata": {
    "pycharm": {
     "name": "#%%\n"
    },
    "slideshow": {
     "slide_type": "subslide"
    }
   },
   "outputs": [
    {
     "name": "stdout",
     "output_type": "stream",
     "text": [
      "wrote problem to file b'/tmp/tmpzssysx68.mps'\n",
      "optimal 385.19969295 4069\n"
     ]
    }
   ],
   "source": [
    "import geco.mips.utilities as util\n",
    "\n",
    "miplib_model2 = loader.load_instance(\"swath2.mps\", with_solution=True)\n",
    "miplib_model2 = util.shuffle(miplib_model2, seed=53115)\n",
    "\n",
    "miplib_model2.optimize()\n",
    "\n",
    "print(miplib_model2.getStatus(), miplib_model2.getObjVal(), miplib_model2.getNNodes())"
   ]
  },
  {
   "cell_type": "markdown",
   "metadata": {
    "slideshow": {
     "slide_type": "slide"
    }
   },
   "source": [
    "<font size=\"5\">\n",
    "\n",
    "**Creating instances of same structure**"
   ]
  },
  {
   "cell_type": "code",
   "execution_count": 14,
   "metadata": {
    "slideshow": {
     "slide_type": "subslide"
    }
   },
   "outputs": [
    {
     "name": "stdout",
     "output_type": "stream",
     "text": [
      "wrote problem to file b'/tmp/knapsack-yang_n2000seed53115.mps'\n",
      "wrote problem to file b'/tmp/knapsack-yang_n2000seed4711.mps'\n"
     ]
    }
   ],
   "source": [
    "import geco.mips.knapsack as knapsack\n",
    "\n",
    "seeds = [53115, 4711]\n",
    "num_elements = 2000\n",
    "\n",
    "for seed in seeds:\n",
    "    model = knapsack.yang_instance(n=num_elements, seed=seed)\n",
    "    model.writeProblem(f\"/tmp/knapsack-yang_n{num_elements}seed{seed}.mps\")"
   ]
  },
  {
   "cell_type": "code",
   "execution_count": null,
   "outputs": [],
   "source": [
    "import geco.mips.set_cover as sc\n",
    "\n",
    "sc.yang_instance"
   ],
   "metadata": {
    "collapsed": false,
    "pycharm": {
     "name": "#%%\n"
    }
   }
  }
 ],
 "metadata": {
  "celltoolbar": "Slideshow",
  "kernelspec": {
   "display_name": "Python 3",
   "language": "python",
   "name": "python3"
  },
  "language_info": {
   "codemirror_mode": {
    "name": "ipython",
    "version": 3
   },
   "file_extension": ".py",
   "mimetype": "text/x-python",
   "name": "python",
   "nbconvert_exporter": "python",
   "pygments_lexer": "ipython3",
   "version": "3.8.6"
  }
 },
 "nbformat": 4,
 "nbformat_minor": 1
}